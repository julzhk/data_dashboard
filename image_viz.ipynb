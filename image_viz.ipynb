{
 "cells": [
  {
   "cell_type": "code",
   "execution_count": 7,
   "metadata": {},
   "outputs": [
    {
     "ename": "Forbidden",
     "evalue": "403 Access Denied: Table project-fermi:adidas.gcp_vision_output_new: User does not have permission to query table project-fermi:adidas.gcp_vision_output_new.\n\n(job ID: 213ee443-3183-4c11-8036-ed3cdb42ef45)\n\n                  -----Query Job SQL Follows-----                   \n\n    |    .    |    .    |    .    |    .    |    .    |    .    |\n   1:\n   2:    SELECT  * FROM `project-fermi.adidas.gcp_vision_output_new`\n   3:    LIMIT 10\n   4:    \n    |    .    |    .    |    .    |    .    |    .    |    .    |",
     "output_type": "error",
     "traceback": [
      "\u001B[0;31m---------------------------------------------------------------------------\u001B[0m",
      "\u001B[0;31mForbidden\u001B[0m                                 Traceback (most recent call last)",
      "\u001B[0;32m/var/folders/9l/wscwqwnx1fd74_dd198r0hmc0000gn/T/ipykernel_39495/2665215680.py\u001B[0m in \u001B[0;36m<module>\u001B[0;34m\u001B[0m\n\u001B[1;32m     10\u001B[0m     \"\"\"\n\u001B[1;32m     11\u001B[0m )\n\u001B[0;32m---> 12\u001B[0;31m \u001B[0mresults\u001B[0m \u001B[0;34m=\u001B[0m \u001B[0mquery_job\u001B[0m\u001B[0;34m.\u001B[0m\u001B[0mresult\u001B[0m\u001B[0;34m(\u001B[0m\u001B[0;34m)\u001B[0m\u001B[0;34m\u001B[0m\u001B[0;34m\u001B[0m\u001B[0m\n\u001B[0m\u001B[1;32m     13\u001B[0m \u001B[0;31m# results = [r.uri.replace('gs://', 'https://storage.cloud.google.com/') for r in results]\u001B[0m\u001B[0;34m\u001B[0m\u001B[0;34m\u001B[0m\u001B[0;34m\u001B[0m\u001B[0m\n\u001B[1;32m     14\u001B[0m \u001B[0;31m# ipyplot.plot_images(results, )\u001B[0m\u001B[0;34m\u001B[0m\u001B[0;34m\u001B[0m\u001B[0;34m\u001B[0m\u001B[0m\n",
      "\u001B[0;32m~/Projects/dare/adidas_dataviz/venv/lib/python3.8/site-packages/google/cloud/bigquery/job/query.py\u001B[0m in \u001B[0;36mresult\u001B[0;34m(self, page_size, max_results, retry, timeout, start_index, job_retry)\u001B[0m\n\u001B[1;32m   1448\u001B[0m                 \u001B[0mdo_get_result\u001B[0m \u001B[0;34m=\u001B[0m \u001B[0mjob_retry\u001B[0m\u001B[0;34m(\u001B[0m\u001B[0mdo_get_result\u001B[0m\u001B[0;34m)\u001B[0m\u001B[0;34m\u001B[0m\u001B[0;34m\u001B[0m\u001B[0m\n\u001B[1;32m   1449\u001B[0m \u001B[0;34m\u001B[0m\u001B[0m\n\u001B[0;32m-> 1450\u001B[0;31m             \u001B[0mdo_get_result\u001B[0m\u001B[0;34m(\u001B[0m\u001B[0;34m)\u001B[0m\u001B[0;34m\u001B[0m\u001B[0;34m\u001B[0m\u001B[0m\n\u001B[0m\u001B[1;32m   1451\u001B[0m \u001B[0;34m\u001B[0m\u001B[0m\n\u001B[1;32m   1452\u001B[0m         \u001B[0;32mexcept\u001B[0m \u001B[0mexceptions\u001B[0m\u001B[0;34m.\u001B[0m\u001B[0mGoogleAPICallError\u001B[0m \u001B[0;32mas\u001B[0m \u001B[0mexc\u001B[0m\u001B[0;34m:\u001B[0m\u001B[0;34m\u001B[0m\u001B[0;34m\u001B[0m\u001B[0m\n",
      "\u001B[0;32m~/Projects/dare/adidas_dataviz/venv/lib/python3.8/site-packages/google/api_core/retry.py\u001B[0m in \u001B[0;36mretry_wrapped_func\u001B[0;34m(*args, **kwargs)\u001B[0m\n\u001B[1;32m    281\u001B[0m                 \u001B[0mself\u001B[0m\u001B[0;34m.\u001B[0m\u001B[0m_initial\u001B[0m\u001B[0;34m,\u001B[0m \u001B[0mself\u001B[0m\u001B[0;34m.\u001B[0m\u001B[0m_maximum\u001B[0m\u001B[0;34m,\u001B[0m \u001B[0mmultiplier\u001B[0m\u001B[0;34m=\u001B[0m\u001B[0mself\u001B[0m\u001B[0;34m.\u001B[0m\u001B[0m_multiplier\u001B[0m\u001B[0;34m\u001B[0m\u001B[0;34m\u001B[0m\u001B[0m\n\u001B[1;32m    282\u001B[0m             )\n\u001B[0;32m--> 283\u001B[0;31m             return retry_target(\n\u001B[0m\u001B[1;32m    284\u001B[0m                 \u001B[0mtarget\u001B[0m\u001B[0;34m,\u001B[0m\u001B[0;34m\u001B[0m\u001B[0;34m\u001B[0m\u001B[0m\n\u001B[1;32m    285\u001B[0m                 \u001B[0mself\u001B[0m\u001B[0;34m.\u001B[0m\u001B[0m_predicate\u001B[0m\u001B[0;34m,\u001B[0m\u001B[0;34m\u001B[0m\u001B[0;34m\u001B[0m\u001B[0m\n",
      "\u001B[0;32m~/Projects/dare/adidas_dataviz/venv/lib/python3.8/site-packages/google/api_core/retry.py\u001B[0m in \u001B[0;36mretry_target\u001B[0;34m(target, predicate, sleep_generator, deadline, on_error)\u001B[0m\n\u001B[1;32m    188\u001B[0m     \u001B[0;32mfor\u001B[0m \u001B[0msleep\u001B[0m \u001B[0;32min\u001B[0m \u001B[0msleep_generator\u001B[0m\u001B[0;34m:\u001B[0m\u001B[0;34m\u001B[0m\u001B[0;34m\u001B[0m\u001B[0m\n\u001B[1;32m    189\u001B[0m         \u001B[0;32mtry\u001B[0m\u001B[0;34m:\u001B[0m\u001B[0;34m\u001B[0m\u001B[0;34m\u001B[0m\u001B[0m\n\u001B[0;32m--> 190\u001B[0;31m             \u001B[0;32mreturn\u001B[0m \u001B[0mtarget\u001B[0m\u001B[0;34m(\u001B[0m\u001B[0;34m)\u001B[0m\u001B[0;34m\u001B[0m\u001B[0;34m\u001B[0m\u001B[0m\n\u001B[0m\u001B[1;32m    191\u001B[0m \u001B[0;34m\u001B[0m\u001B[0m\n\u001B[1;32m    192\u001B[0m         \u001B[0;31m# pylint: disable=broad-except\u001B[0m\u001B[0;34m\u001B[0m\u001B[0;34m\u001B[0m\u001B[0;34m\u001B[0m\u001B[0m\n",
      "\u001B[0;32m~/Projects/dare/adidas_dataviz/venv/lib/python3.8/site-packages/google/cloud/bigquery/job/query.py\u001B[0m in \u001B[0;36mdo_get_result\u001B[0;34m()\u001B[0m\n\u001B[1;32m   1438\u001B[0m                     \u001B[0mself\u001B[0m\u001B[0;34m.\u001B[0m\u001B[0m_job_retry\u001B[0m \u001B[0;34m=\u001B[0m \u001B[0mjob_retry\u001B[0m\u001B[0;34m\u001B[0m\u001B[0;34m\u001B[0m\u001B[0m\n\u001B[1;32m   1439\u001B[0m \u001B[0;34m\u001B[0m\u001B[0m\n\u001B[0;32m-> 1440\u001B[0;31m                 \u001B[0msuper\u001B[0m\u001B[0;34m(\u001B[0m\u001B[0mQueryJob\u001B[0m\u001B[0;34m,\u001B[0m \u001B[0mself\u001B[0m\u001B[0;34m)\u001B[0m\u001B[0;34m.\u001B[0m\u001B[0mresult\u001B[0m\u001B[0;34m(\u001B[0m\u001B[0mretry\u001B[0m\u001B[0;34m=\u001B[0m\u001B[0mretry\u001B[0m\u001B[0;34m,\u001B[0m \u001B[0mtimeout\u001B[0m\u001B[0;34m=\u001B[0m\u001B[0mtimeout\u001B[0m\u001B[0;34m)\u001B[0m\u001B[0;34m\u001B[0m\u001B[0;34m\u001B[0m\u001B[0m\n\u001B[0m\u001B[1;32m   1441\u001B[0m \u001B[0;34m\u001B[0m\u001B[0m\n\u001B[1;32m   1442\u001B[0m                 \u001B[0;31m# Since the job could already be \"done\" (e.g. got a finished job\u001B[0m\u001B[0;34m\u001B[0m\u001B[0;34m\u001B[0m\u001B[0;34m\u001B[0m\u001B[0m\n",
      "\u001B[0;32m~/Projects/dare/adidas_dataviz/venv/lib/python3.8/site-packages/google/cloud/bigquery/job/base.py\u001B[0m in \u001B[0;36mresult\u001B[0;34m(self, retry, timeout)\u001B[0m\n\u001B[1;32m    725\u001B[0m \u001B[0;34m\u001B[0m\u001B[0m\n\u001B[1;32m    726\u001B[0m         \u001B[0mkwargs\u001B[0m \u001B[0;34m=\u001B[0m \u001B[0;34m{\u001B[0m\u001B[0;34m}\u001B[0m \u001B[0;32mif\u001B[0m \u001B[0mretry\u001B[0m \u001B[0;32mis\u001B[0m \u001B[0mDEFAULT_RETRY\u001B[0m \u001B[0;32melse\u001B[0m \u001B[0;34m{\u001B[0m\u001B[0;34m\"retry\"\u001B[0m\u001B[0;34m:\u001B[0m \u001B[0mretry\u001B[0m\u001B[0;34m}\u001B[0m\u001B[0;34m\u001B[0m\u001B[0;34m\u001B[0m\u001B[0m\n\u001B[0;32m--> 727\u001B[0;31m         \u001B[0;32mreturn\u001B[0m \u001B[0msuper\u001B[0m\u001B[0;34m(\u001B[0m\u001B[0m_AsyncJob\u001B[0m\u001B[0;34m,\u001B[0m \u001B[0mself\u001B[0m\u001B[0;34m)\u001B[0m\u001B[0;34m.\u001B[0m\u001B[0mresult\u001B[0m\u001B[0;34m(\u001B[0m\u001B[0mtimeout\u001B[0m\u001B[0;34m=\u001B[0m\u001B[0mtimeout\u001B[0m\u001B[0;34m,\u001B[0m \u001B[0;34m**\u001B[0m\u001B[0mkwargs\u001B[0m\u001B[0;34m)\u001B[0m\u001B[0;34m\u001B[0m\u001B[0;34m\u001B[0m\u001B[0m\n\u001B[0m\u001B[1;32m    728\u001B[0m \u001B[0;34m\u001B[0m\u001B[0m\n\u001B[1;32m    729\u001B[0m     \u001B[0;32mdef\u001B[0m \u001B[0mcancelled\u001B[0m\u001B[0;34m(\u001B[0m\u001B[0mself\u001B[0m\u001B[0;34m)\u001B[0m\u001B[0;34m:\u001B[0m\u001B[0;34m\u001B[0m\u001B[0;34m\u001B[0m\u001B[0m\n",
      "\u001B[0;32m~/Projects/dare/adidas_dataviz/venv/lib/python3.8/site-packages/google/api_core/future/polling.py\u001B[0m in \u001B[0;36mresult\u001B[0;34m(self, timeout, retry)\u001B[0m\n\u001B[1;32m    135\u001B[0m             \u001B[0;31m# pylint: disable=raising-bad-type\u001B[0m\u001B[0;34m\u001B[0m\u001B[0;34m\u001B[0m\u001B[0;34m\u001B[0m\u001B[0m\n\u001B[1;32m    136\u001B[0m             \u001B[0;31m# Pylint doesn't recognize that this is valid in this case.\u001B[0m\u001B[0;34m\u001B[0m\u001B[0;34m\u001B[0m\u001B[0;34m\u001B[0m\u001B[0m\n\u001B[0;32m--> 137\u001B[0;31m             \u001B[0;32mraise\u001B[0m \u001B[0mself\u001B[0m\u001B[0;34m.\u001B[0m\u001B[0m_exception\u001B[0m\u001B[0;34m\u001B[0m\u001B[0;34m\u001B[0m\u001B[0m\n\u001B[0m\u001B[1;32m    138\u001B[0m \u001B[0;34m\u001B[0m\u001B[0m\n\u001B[1;32m    139\u001B[0m         \u001B[0;32mreturn\u001B[0m \u001B[0mself\u001B[0m\u001B[0;34m.\u001B[0m\u001B[0m_result\u001B[0m\u001B[0;34m\u001B[0m\u001B[0;34m\u001B[0m\u001B[0m\n",
      "\u001B[0;31mForbidden\u001B[0m: 403 Access Denied: Table project-fermi:adidas.gcp_vision_output_new: User does not have permission to query table project-fermi:adidas.gcp_vision_output_new.\n\n(job ID: 213ee443-3183-4c11-8036-ed3cdb42ef45)\n\n                  -----Query Job SQL Follows-----                   \n\n    |    .    |    .    |    .    |    .    |    .    |    .    |\n   1:\n   2:    SELECT  * FROM `project-fermi.adidas.gcp_vision_output_new`\n   3:    LIMIT 10\n   4:    \n    |    .    |    .    |    .    |    .    |    .    |    .    |"
     ]
    }
   ],
   "source": [
    "from google.cloud import bigquery\n",
    "import ipyplot\n",
    "import os\n",
    "\n",
    "client = bigquery.Client()\n",
    "query_job = client.query(\n",
    "    \"\"\"\n",
    "    SELECT  * FROM `project-fermi.adidas.gcp_vision_output_new`\n",
    "    LIMIT 10\n",
    "    \"\"\"\n",
    ")\n",
    "results = query_job.result()\n",
    "# results = [r.uri.replace('gs://', 'https://storage.cloud.google.com/') for r in results]\n",
    "# ipyplot.plot_images(results, )\n",
    "#\n"
   ]
  },
  {
   "cell_type": "code",
   "execution_count": null,
   "metadata": {
    "pycharm": {
     "name": "#%%\n"
    }
   },
   "outputs": [],
   "source": [
    "import datetime\n",
    "import os\n",
    "\n",
    "from google.cloud import storage\n",
    "\n",
    "os.environ[\"GOOGLE_APPLICATION_CREDENTIALS\"]=\"project-fermi-24f48601c1b4.json\"\n",
    "\n",
    "def extract_bucket_and_fn(path: str):\n",
    "    path = path.replace('gs://', '')\n",
    "    path_elements = path.split('/')\n",
    "    fn = path_elements.pop()\n",
    "    bucket = '/'.join(path_elements)\n",
    "    return (bucket, fn)\n",
    "\n",
    "\n",
    "def generate_download_signed_url_v4(bucket_name, blob_name):\n",
    "    # https://docs.dolby.io/media-apis/docs/gcp-cloud-storage\n",
    "    # If you don't have the authentication file set to an environment variable\n",
    "    # See: https://cloud.google.com/docs/authentication/getting-started for more information\n",
    "    # os.environ[\"GOOGLE_APPLICATION_CREDENTIALS\"]=\"<PATH_TO_GCP_KEY>.json\"\n",
    "\n",
    "    # generate_download_signed_url_v4('dab_asset_iin/IIN/H23078-group1_300x50-736772/Misc/group1_300x50/MISC', 'talent_03.jpg')\n",
    "    storage_client = storage.Client()\n",
    "    bucket = storage_client.bucket(bucket_name)\n",
    "    blob = bucket.blob(blob_name)\n",
    "\n",
    "    url = blob.generate_signed_url(\n",
    "        version=\"v4\",\n",
    "        # This URL is valid for 60 minutes\n",
    "        expiration=datetime.timedelta(minutes=60),\n",
    "        # Allow GET requests using this URL.\n",
    "        method=\"GET\",\n",
    "    )\n",
    "    # print(\"Generated GET signed URL:\")\n",
    "    # print(url)\n",
    "    # print(\"You can use this URL with any user agent, for example:\")\n",
    "    # print(\"curl '{}'\".format(url))\n",
    "    return url\n",
    "\n"
   ]
  },
  {
   "cell_type": "code",
   "execution_count": null,
   "metadata": {},
   "outputs": [],
   "source": [
    "results = [r.uri for r in results]\n",
    "results = [extract_bucket_and_fn(r) for r in results]\n",
    "results = [generate_download_signed_url_v4(*r) for r in results]\n",
    "ipyplot.plot_images(results, )\n"
   ]
  }
 ],
 "metadata": {
  "kernelspec": {
   "display_name": "Python 3 (ipykernel)",
   "language": "python",
   "name": "python3"
  },
  "language_info": {
   "codemirror_mode": {
    "name": "ipython",
    "version": 3
   },
   "file_extension": ".py",
   "mimetype": "text/x-python",
   "name": "python",
   "nbconvert_exporter": "python",
   "pygments_lexer": "ipython3",
   "version": "3.8.1"
  }
 },
 "nbformat": 4,
 "nbformat_minor": 1
}